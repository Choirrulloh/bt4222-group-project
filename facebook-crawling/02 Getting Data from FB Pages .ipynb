{
 "cells": [
  {
   "cell_type": "code",
   "execution_count": 75,
   "metadata": {},
   "outputs": [
    {
     "data": {
      "text/html": [
       "<style>.container { width:98% !important; }</style>"
      ],
      "text/plain": [
       "<IPython.core.display.HTML object>"
      ]
     },
     "metadata": {},
     "output_type": "display_data"
    }
   ],
   "source": [
    "from IPython.core.display import display, HTML\n",
    "display(HTML(\"<style>.container { width:98% !important; }</style>\"))"
   ]
  },
  {
   "cell_type": "code",
   "execution_count": 270,
   "metadata": {},
   "outputs": [],
   "source": [
    "import urllib.request"
   ]
  },
  {
   "cell_type": "code",
   "execution_count": 271,
   "metadata": {},
   "outputs": [],
   "source": [
    "from datetime import datetime\n",
    "import time\n",
    "\n",
    "def get_epoch_timestamp(date_str):\n",
    "    return int(time.mktime(datetime.strptime(date_str, '%Y-%m-%d').timetuple()))\n",
    "# End of get_epoch_timestamp(..)."
   ]
  },
  {
   "cell_type": "markdown",
   "metadata": {},
   "source": [
    "## Get Data from Facebook pages"
   ]
  },
  {
   "cell_type": "code",
   "execution_count": 204,
   "metadata": {},
   "outputs": [],
   "source": [
    "import pandas as pd\n",
    "\n",
    "app_id     = '145212799398035'                  \n",
    "app_secret = '7efdb01e0e5e9400bd899b505815264f' \n",
    "page_id_list = [\"SamsungMobile\", \"Nokiamobile\", \"sonymobile\", \"LGMobile\", \"HTC\", \"moto\", \"HuaweiMobileSG\", \"LenovoSmartphone\", \"xiaomiglobal\", \"opposingapore\", \"oneplussingapore\", \"meizuofficial\", \"BlackBerryMobile\", \"AlcatelmobileSingapore\", \"ZTECorp\", \"ToshibaUSA\", \"MyXOLO\", \"lavamobiles\", \"BLU.Products\", \"GioneeGlobal\", \"vivosingapore\", \"yuplaygod\", \"Maxwest.Telecom\", \"plummobile\"]"
   ]
  },
  {
   "cell_type": "code",
   "execution_count": 201,
   "metadata": {},
   "outputs": [],
   "source": [
    "from datetime import datetime\n",
    "import json\n",
    "import time\n",
    "import urllib.request\n",
    "\n",
    "def get_epoch_timestamp(date_str):\n",
    "    return int(time.mktime(datetime.strptime(date_str, '%Y-%m-%d').timetuple()))\n",
    "# End of get_epoch_timestamp(..).\n",
    "\n",
    "def get_fb_page_json_data(page_id, \n",
    "                          access_token, \n",
    "                          no_of_status_posts=5, \n",
    "                          likes_limit=100, \n",
    "                          comments_limit=100, \n",
    "                          reactions_limit=100, \n",
    "                          start_date=None, end_date=None):\n",
    "    base = \"https://graph.facebook.com/v2.6\"\n",
    "    node = \"/\" + page_id + \"/posts\" \n",
    "    parameters = \"/?fields=message,link,created_time,type,name,id,likes.limit(%s).summary(true),comments.limit(%s).summary(true),reactions.limit(%s).summary(true),shares&limit=%s&access_token=%s\" % (likes_limit, comments_limit, reactions_limit, no_of_status_posts, access_token)\n",
    "    if start_date is not None:\n",
    "        parameters += '&since=%d' % get_epoch_timestamp(start_date)\n",
    "    if end_date is not None:\n",
    "        parameters += '&until=%d' % (get_epoch_timestamp(end_date) + 24 * 3600 - 1)\n",
    "    url = base + node + parameters\n",
    "    print('URL:\\n%s' % url)\n",
    "    request = urllib.request.Request(url)\n",
    "    response = urllib.request.urlopen(request)\n",
    "    return response.read().decode('utf-8')"
   ]
  },
  {
   "cell_type": "code",
   "execution_count": 202,
   "metadata": {},
   "outputs": [
    {
     "data": {
      "text/plain": [
       "'145212799398035|7efdb01e0e5e9400bd899b505815264f'"
      ]
     },
     "execution_count": 202,
     "metadata": {},
     "output_type": "execute_result"
    }
   ],
   "source": [
    "# Another way to piece 2 strings together (with a \"pipe\" character in the middle)\n",
    "access_token = app_id + '|' +  app_secret\n",
    "access_token"
   ]
  },
  {
   "cell_type": "markdown",
   "metadata": {},
   "source": [
    "### Convert JSON String to Dictionary Object"
   ]
  },
  {
   "cell_type": "code",
   "execution_count": 203,
   "metadata": {
    "scrolled": false
   },
   "outputs": [
    {
     "name": "stdout",
     "output_type": "stream",
     "text": [
      "Doing Maxwest.Telecom\n",
      "URL:\n",
      "https://graph.facebook.com/v2.6/Maxwest.Telecom/posts/?fields=message,link,created_time,type,name,id,likes.limit(100).summary(true),comments.limit(100).summary(true),reactions.limit(100).summary(true),shares&limit=100&access_token=145212799398035|7efdb01e0e5e9400bd899b505815264f&since=1451577600&until=1459439999\n",
      "Got here\n",
      "Doing plummobile\n",
      "URL:\n",
      "https://graph.facebook.com/v2.6/plummobile/posts/?fields=message,link,created_time,type,name,id,likes.limit(100).summary(true),comments.limit(100).summary(true),reactions.limit(100).summary(true),shares&limit=100&access_token=145212799398035|7efdb01e0e5e9400bd899b505815264f&since=1451577600&until=1459439999\n",
      "Got here\n"
     ]
    }
   ],
   "source": [
    "pd.set_option('display.max_colwidth', 150)\n",
    "import json\n",
    "import pandas as pd\n",
    "\n",
    "for phone_brand in page_id_list:\n",
    "    print(\"Doing \" + phone_brand)\n",
    "    posts = []\n",
    "    json_data = get_fb_page_json_data(str(phone_brand), access_token, \n",
    "                              no_of_status_posts=100,\n",
    "                              start_date='2016-01-01', end_date='2016-03-31')\n",
    "    print(\"Got here\")\n",
    "    dict_data = json.loads(json_data)\n",
    "    for post in dict_data['data']:\n",
    "        dd = {}\n",
    "        try:\n",
    "            dd['message'] = post['message']\n",
    "            dd['id'] = post['id']\n",
    "            dd['type'] = post['type'] \n",
    "            dd['link'] =  post['link'] \n",
    "            dd['likes'] = post['likes']['summary']['total_count'] \n",
    "            dd['comments'] = post['comments']['summary']['total_count'] \n",
    "            dd['created_time'] =  post['created_time'] \n",
    "            dd['shares'] = post['shares']['count']\n",
    "            posts.append(dd)\n",
    "        except:\n",
    "            continue\n",
    "    # End of for loop.\n",
    "    posts_df = pd.DataFrame(posts)\n",
    "    posts_df.to_csv(phone_brand + '_2016Q1' + '.csv')\n",
    "\n",
    "    \n"
   ]
  },
  {
   "cell_type": "code",
   "execution_count": null,
   "metadata": {},
   "outputs": [],
   "source": []
  }
 ],
 "metadata": {
  "kernelspec": {
   "display_name": "Python 3",
   "language": "python",
   "name": "python3"
  },
  "language_info": {
   "codemirror_mode": {
    "name": "ipython",
    "version": 3
   },
   "file_extension": ".py",
   "mimetype": "text/x-python",
   "name": "python",
   "nbconvert_exporter": "python",
   "pygments_lexer": "ipython3",
   "version": "3.6.4"
  }
 },
 "nbformat": 4,
 "nbformat_minor": 2
}
