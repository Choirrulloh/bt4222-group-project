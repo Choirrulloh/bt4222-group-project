{
 "cells": [
  {
   "cell_type": "code",
   "execution_count": 75,
   "metadata": {},
   "outputs": [
    {
     "data": {
      "text/html": [
       "<style>.container { width:98% !important; }</style>"
      ],
      "text/plain": [
       "<IPython.core.display.HTML object>"
      ]
     },
     "metadata": {},
     "output_type": "display_data"
    }
   ],
   "source": [
    "from IPython.core.display import display, HTML\n",
    "display(HTML(\"<style>.container { width:98% !important; }</style>\"))"
   ]
  },
  {
   "cell_type": "code",
   "execution_count": 270,
   "metadata": {},
   "outputs": [],
   "source": [
    "import urllib.request"
   ]
  },
  {
   "cell_type": "code",
   "execution_count": 271,
   "metadata": {},
   "outputs": [],
   "source": [
    "from datetime import datetime\n",
    "import time\n",
    "\n",
    "def get_epoch_timestamp(date_str):\n",
    "    return int(time.mktime(datetime.strptime(date_str, '%Y-%m-%d').timetuple()))\n",
    "# End of get_epoch_timestamp(..)."
   ]
  },
  {
   "cell_type": "markdown",
   "metadata": {},
   "source": [
    "## Get Data from Facebook pages"
   ]
  },
  {
   "cell_type": "code",
   "execution_count": 181,
   "metadata": {},
   "outputs": [],
   "source": [
    "import pandas as pd\n",
    "\n",
    "app_id     = '145212799398035'                  \n",
    "app_secret = '7efdb01e0e5e9400bd899b505815264f' \n",
    "page_id_list = [\"SamsungMobile\", \"Nokiamobile\", \"sonymobile\", \"LGMobile\", \"HTC\", \"moto\", \"HuaweiMobileSG\", \"LenovoSmartphone\", \"xiaomiglobal\", \"opposingapore\", \"oneplussingapore\", \"meizuofficial\", \"BlackBerryMobile\", \"AlcatelmobileSingapore\", \"ZTECorp\", \"ToshibaUSA\", \"MyXOLO\", \"lavamobiles\", \"BLU.Products\", \"GioneeGlobal\", \"vivosingapore\", \"yuplaygod\", \"Maxwest.Telecom\", \"plummobile\"]\n",
    "page_id = \"SamsungMobile\""
   ]
  },
  {
   "cell_type": "code",
   "execution_count": 182,
   "metadata": {},
   "outputs": [],
   "source": [
    "from datetime import datetime\n",
    "import json\n",
    "import time\n",
    "import urllib.request\n",
    "\n",
    "def get_epoch_timestamp(date_str):\n",
    "    return int(time.mktime(datetime.strptime(date_str, '%Y-%m-%d').timetuple()))\n",
    "# End of get_epoch_timestamp(..).\n",
    "\n",
    "def get_fb_page_json_data(page_id, \n",
    "                          access_token, \n",
    "                          no_of_status_posts=5, \n",
    "                          likes_limit=100, \n",
    "                          comments_limit=100, \n",
    "                          reactions_limit=100, \n",
    "                          start_date=None, end_date=None):\n",
    "    base = \"https://graph.facebook.com/v2.6\"\n",
    "    node = \"/\" + page_id + \"/posts\" \n",
    "    parameters = \"/?fields=message,link,created_time,type,name,id,likes.limit(%s).summary(true),comments.limit(%s).summary(true),reactions.limit(%s).summary(true),shares&limit=%s&access_token=%s\" % (likes_limit, comments_limit, reactions_limit, no_of_status_posts, access_token)\n",
    "    if start_date is not None:\n",
    "        parameters += '&since=%d' % get_epoch_timestamp(start_date)\n",
    "    if end_date is not None:\n",
    "        parameters += '&until=%d' % (get_epoch_timestamp(end_date) + 24 * 3600 - 1)\n",
    "    url = base + node + parameters\n",
    "    print('URL:\\n%s' % url)\n",
    "    request = urllib.request.Request(url)\n",
    "    response = urllib.request.urlopen(request)\n",
    "    return response.read().decode('utf-8')"
   ]
  },
  {
   "cell_type": "code",
   "execution_count": 187,
   "metadata": {},
   "outputs": [
    {
     "data": {
      "text/plain": [
       "'145212799398035|7efdb01e0e5e9400bd899b505815264f'"
      ]
     },
     "execution_count": 187,
     "metadata": {},
     "output_type": "execute_result"
    }
   ],
   "source": [
    "# Another way to piece 2 strings together (with a \"pipe\" character in the middle)\n",
    "access_token = app_id + '|' +  app_secret\n",
    "access_token"
   ]
  },
  {
   "cell_type": "markdown",
   "metadata": {},
   "source": [
    "### Convert JSON String to Dictionary Object"
   ]
  },
  {
   "cell_type": "code",
   "execution_count": 199,
   "metadata": {
    "scrolled": false
   },
   "outputs": [
    {
     "name": "stdout",
     "output_type": "stream",
     "text": [
      "Doing SamsungMobile\n",
      "URL:\n",
      "https://graph.facebook.com/v2.6/SamsungMobile/posts/?fields=message,link,created_time,type,name,id,likes.limit(100).summary(true),comments.limit(100).summary(true),reactions.limit(100).summary(true),shares&limit=100&access_token=145212799398035|7efdb01e0e5e9400bd899b505815264f&since=1451577600&until=1459439999\n",
      "Got here\n",
      "Doing Nokiamobile\n",
      "URL:\n",
      "https://graph.facebook.com/v2.6/Nokiamobile/posts/?fields=message,link,created_time,type,name,id,likes.limit(100).summary(true),comments.limit(100).summary(true),reactions.limit(100).summary(true),shares&limit=100&access_token=145212799398035|7efdb01e0e5e9400bd899b505815264f&since=1451577600&until=1459439999\n",
      "Got here\n",
      "Doing sonymobile\n",
      "URL:\n",
      "https://graph.facebook.com/v2.6/sonymobile/posts/?fields=message,link,created_time,type,name,id,likes.limit(100).summary(true),comments.limit(100).summary(true),reactions.limit(100).summary(true),shares&limit=100&access_token=145212799398035|7efdb01e0e5e9400bd899b505815264f&since=1451577600&until=1459439999\n",
      "Got here\n",
      "Doing LGMobile\n",
      "URL:\n",
      "https://graph.facebook.com/v2.6/LGMobile/posts/?fields=message,link,created_time,type,name,id,likes.limit(100).summary(true),comments.limit(100).summary(true),reactions.limit(100).summary(true),shares&limit=100&access_token=145212799398035|7efdb01e0e5e9400bd899b505815264f&since=1451577600&until=1459439999\n",
      "Got here\n",
      "Doing HTC\n",
      "URL:\n",
      "https://graph.facebook.com/v2.6/HTC/posts/?fields=message,link,created_time,type,name,id,likes.limit(100).summary(true),comments.limit(100).summary(true),reactions.limit(100).summary(true),shares&limit=100&access_token=145212799398035|7efdb01e0e5e9400bd899b505815264f&since=1451577600&until=1459439999\n",
      "Got here\n",
      "Doing moto\n",
      "URL:\n",
      "https://graph.facebook.com/v2.6/moto/posts/?fields=message,link,created_time,type,name,id,likes.limit(100).summary(true),comments.limit(100).summary(true),reactions.limit(100).summary(true),shares&limit=100&access_token=145212799398035|7efdb01e0e5e9400bd899b505815264f&since=1451577600&until=1459439999\n",
      "Got here\n",
      "Doing HuaweiMobileSG\n",
      "URL:\n",
      "https://graph.facebook.com/v2.6/HuaweiMobileSG/posts/?fields=message,link,created_time,type,name,id,likes.limit(100).summary(true),comments.limit(100).summary(true),reactions.limit(100).summary(true),shares&limit=100&access_token=145212799398035|7efdb01e0e5e9400bd899b505815264f&since=1451577600&until=1459439999\n",
      "Got here\n",
      "Doing LenovoSmartphone\n",
      "URL:\n",
      "https://graph.facebook.com/v2.6/LenovoSmartphone/posts/?fields=message,link,created_time,type,name,id,likes.limit(100).summary(true),comments.limit(100).summary(true),reactions.limit(100).summary(true),shares&limit=100&access_token=145212799398035|7efdb01e0e5e9400bd899b505815264f&since=1451577600&until=1459439999\n",
      "Got here\n",
      "Doing xiaomiglobal\n",
      "URL:\n",
      "https://graph.facebook.com/v2.6/xiaomiglobal/posts/?fields=message,link,created_time,type,name,id,likes.limit(100).summary(true),comments.limit(100).summary(true),reactions.limit(100).summary(true),shares&limit=100&access_token=145212799398035|7efdb01e0e5e9400bd899b505815264f&since=1451577600&until=1459439999\n",
      "Got here\n",
      "Doing opposingapore\n",
      "URL:\n",
      "https://graph.facebook.com/v2.6/opposingapore/posts/?fields=message,link,created_time,type,name,id,likes.limit(100).summary(true),comments.limit(100).summary(true),reactions.limit(100).summary(true),shares&limit=100&access_token=145212799398035|7efdb01e0e5e9400bd899b505815264f&since=1451577600&until=1459439999\n",
      "Got here\n",
      "Doing oneplussingapore\n",
      "URL:\n",
      "https://graph.facebook.com/v2.6/oneplussingapore/posts/?fields=message,link,created_time,type,name,id,likes.limit(100).summary(true),comments.limit(100).summary(true),reactions.limit(100).summary(true),shares&limit=100&access_token=145212799398035|7efdb01e0e5e9400bd899b505815264f&since=1451577600&until=1459439999\n",
      "Got here\n",
      "Doing meizuofficial\n",
      "URL:\n",
      "https://graph.facebook.com/v2.6/meizuofficial/posts/?fields=message,link,created_time,type,name,id,likes.limit(100).summary(true),comments.limit(100).summary(true),reactions.limit(100).summary(true),shares&limit=100&access_token=145212799398035|7efdb01e0e5e9400bd899b505815264f&since=1451577600&until=1459439999\n",
      "Got here\n",
      "Doing BlackBerryMobile\n",
      "URL:\n",
      "https://graph.facebook.com/v2.6/BlackBerryMobile/posts/?fields=message,link,created_time,type,name,id,likes.limit(100).summary(true),comments.limit(100).summary(true),reactions.limit(100).summary(true),shares&limit=100&access_token=145212799398035|7efdb01e0e5e9400bd899b505815264f&since=1451577600&until=1459439999\n",
      "Got here\n",
      "Doing AlcatelmobileSingapore\n",
      "URL:\n",
      "https://graph.facebook.com/v2.6/AlcatelmobileSingapore/posts/?fields=message,link,created_time,type,name,id,likes.limit(100).summary(true),comments.limit(100).summary(true),reactions.limit(100).summary(true),shares&limit=100&access_token=145212799398035|7efdb01e0e5e9400bd899b505815264f&since=1451577600&until=1459439999\n",
      "Got here\n",
      "Doing ZTECorp\n",
      "URL:\n",
      "https://graph.facebook.com/v2.6/ZTECorp/posts/?fields=message,link,created_time,type,name,id,likes.limit(100).summary(true),comments.limit(100).summary(true),reactions.limit(100).summary(true),shares&limit=100&access_token=145212799398035|7efdb01e0e5e9400bd899b505815264f&since=1451577600&until=1459439999\n",
      "Got here\n",
      "Doing ToshibaUSA\n",
      "URL:\n",
      "https://graph.facebook.com/v2.6/ToshibaUSA/posts/?fields=message,link,created_time,type,name,id,likes.limit(100).summary(true),comments.limit(100).summary(true),reactions.limit(100).summary(true),shares&limit=100&access_token=145212799398035|7efdb01e0e5e9400bd899b505815264f&since=1451577600&until=1459439999\n",
      "Got here\n",
      "Doing MyXOLO\n",
      "URL:\n",
      "https://graph.facebook.com/v2.6/MyXOLO/posts/?fields=message,link,created_time,type,name,id,likes.limit(100).summary(true),comments.limit(100).summary(true),reactions.limit(100).summary(true),shares&limit=100&access_token=145212799398035|7efdb01e0e5e9400bd899b505815264f&since=1451577600&until=1459439999\n",
      "Got here\n",
      "Doing lavamobiles\n",
      "URL:\n",
      "https://graph.facebook.com/v2.6/lavamobiles/posts/?fields=message,link,created_time,type,name,id,likes.limit(100).summary(true),comments.limit(100).summary(true),reactions.limit(100).summary(true),shares&limit=100&access_token=145212799398035|7efdb01e0e5e9400bd899b505815264f&since=1451577600&until=1459439999\n",
      "Got here\n",
      "Doing BLU.Products\n",
      "URL:\n",
      "https://graph.facebook.com/v2.6/BLU.Products/posts/?fields=message,link,created_time,type,name,id,likes.limit(100).summary(true),comments.limit(100).summary(true),reactions.limit(100).summary(true),shares&limit=100&access_token=145212799398035|7efdb01e0e5e9400bd899b505815264f&since=1451577600&until=1459439999\n",
      "Got here\n",
      "Doing GioneeGlobal\n",
      "URL:\n",
      "https://graph.facebook.com/v2.6/GioneeGlobal/posts/?fields=message,link,created_time,type,name,id,likes.limit(100).summary(true),comments.limit(100).summary(true),reactions.limit(100).summary(true),shares&limit=100&access_token=145212799398035|7efdb01e0e5e9400bd899b505815264f&since=1451577600&until=1459439999\n",
      "Got here\n",
      "Doing vivosingapore\n",
      "URL:\n",
      "https://graph.facebook.com/v2.6/vivosingapore/posts/?fields=message,link,created_time,type,name,id,likes.limit(100).summary(true),comments.limit(100).summary(true),reactions.limit(100).summary(true),shares&limit=100&access_token=145212799398035|7efdb01e0e5e9400bd899b505815264f&since=1451577600&until=1459439999\n",
      "Got here\n",
      "Doing yuplaygod\n",
      "URL:\n",
      "https://graph.facebook.com/v2.6/yuplaygod/posts/?fields=message,link,created_time,type,name,id,likes.limit(100).summary(true),comments.limit(100).summary(true),reactions.limit(100).summary(true),shares&limit=100&access_token=145212799398035|7efdb01e0e5e9400bd899b505815264f&since=1451577600&until=1459439999\n"
     ]
    },
    {
     "ename": "HTTPError",
     "evalue": "HTTP Error 500: Internal Server Error",
     "output_type": "error",
     "traceback": [
      "\u001b[0;31m---------------------------------------------------------------------------\u001b[0m",
      "\u001b[0;31mHTTPError\u001b[0m                                 Traceback (most recent call last)",
      "\u001b[0;32m<ipython-input-199-0364b8c33112>\u001b[0m in \u001b[0;36m<module>\u001b[0;34m()\u001b[0m\n\u001b[1;32m      8\u001b[0m     json_data = get_fb_page_json_data(str(phone_brand), access_token, \n\u001b[1;32m      9\u001b[0m                               \u001b[0mno_of_status_posts\u001b[0m\u001b[0;34m=\u001b[0m\u001b[0;36m100\u001b[0m\u001b[0;34m,\u001b[0m\u001b[0;34m\u001b[0m\u001b[0m\n\u001b[0;32m---> 10\u001b[0;31m                               start_date='2016-01-01', end_date='2016-03-31')\n\u001b[0m\u001b[1;32m     11\u001b[0m     \u001b[0mprint\u001b[0m\u001b[0;34m(\u001b[0m\u001b[0;34m\"Got here\"\u001b[0m\u001b[0;34m)\u001b[0m\u001b[0;34m\u001b[0m\u001b[0m\n\u001b[1;32m     12\u001b[0m     \u001b[0mdict_data\u001b[0m \u001b[0;34m=\u001b[0m \u001b[0mjson\u001b[0m\u001b[0;34m.\u001b[0m\u001b[0mloads\u001b[0m\u001b[0;34m(\u001b[0m\u001b[0mjson_data\u001b[0m\u001b[0;34m)\u001b[0m\u001b[0;34m\u001b[0m\u001b[0m\n",
      "\u001b[0;32m<ipython-input-182-78953ead9183>\u001b[0m in \u001b[0;36mget_fb_page_json_data\u001b[0;34m(page_id, access_token, no_of_status_posts, likes_limit, comments_limit, reactions_limit, start_date, end_date)\u001b[0m\n\u001b[1;32m     25\u001b[0m     \u001b[0mprint\u001b[0m\u001b[0;34m(\u001b[0m\u001b[0;34m'URL:\\n%s'\u001b[0m \u001b[0;34m%\u001b[0m \u001b[0murl\u001b[0m\u001b[0;34m)\u001b[0m\u001b[0;34m\u001b[0m\u001b[0m\n\u001b[1;32m     26\u001b[0m     \u001b[0mrequest\u001b[0m \u001b[0;34m=\u001b[0m \u001b[0murllib\u001b[0m\u001b[0;34m.\u001b[0m\u001b[0mrequest\u001b[0m\u001b[0;34m.\u001b[0m\u001b[0mRequest\u001b[0m\u001b[0;34m(\u001b[0m\u001b[0murl\u001b[0m\u001b[0;34m)\u001b[0m\u001b[0;34m\u001b[0m\u001b[0m\n\u001b[0;32m---> 27\u001b[0;31m     \u001b[0mresponse\u001b[0m \u001b[0;34m=\u001b[0m \u001b[0murllib\u001b[0m\u001b[0;34m.\u001b[0m\u001b[0mrequest\u001b[0m\u001b[0;34m.\u001b[0m\u001b[0murlopen\u001b[0m\u001b[0;34m(\u001b[0m\u001b[0mrequest\u001b[0m\u001b[0;34m)\u001b[0m\u001b[0;34m\u001b[0m\u001b[0m\n\u001b[0m\u001b[1;32m     28\u001b[0m     \u001b[0;32mreturn\u001b[0m \u001b[0mresponse\u001b[0m\u001b[0;34m.\u001b[0m\u001b[0mread\u001b[0m\u001b[0;34m(\u001b[0m\u001b[0;34m)\u001b[0m\u001b[0;34m.\u001b[0m\u001b[0mdecode\u001b[0m\u001b[0;34m(\u001b[0m\u001b[0;34m'utf-8'\u001b[0m\u001b[0;34m)\u001b[0m\u001b[0;34m\u001b[0m\u001b[0m\n",
      "\u001b[0;32m/anaconda3/lib/python3.6/urllib/request.py\u001b[0m in \u001b[0;36murlopen\u001b[0;34m(url, data, timeout, cafile, capath, cadefault, context)\u001b[0m\n\u001b[1;32m    221\u001b[0m     \u001b[0;32melse\u001b[0m\u001b[0;34m:\u001b[0m\u001b[0;34m\u001b[0m\u001b[0m\n\u001b[1;32m    222\u001b[0m         \u001b[0mopener\u001b[0m \u001b[0;34m=\u001b[0m \u001b[0m_opener\u001b[0m\u001b[0;34m\u001b[0m\u001b[0m\n\u001b[0;32m--> 223\u001b[0;31m     \u001b[0;32mreturn\u001b[0m \u001b[0mopener\u001b[0m\u001b[0;34m.\u001b[0m\u001b[0mopen\u001b[0m\u001b[0;34m(\u001b[0m\u001b[0murl\u001b[0m\u001b[0;34m,\u001b[0m \u001b[0mdata\u001b[0m\u001b[0;34m,\u001b[0m \u001b[0mtimeout\u001b[0m\u001b[0;34m)\u001b[0m\u001b[0;34m\u001b[0m\u001b[0m\n\u001b[0m\u001b[1;32m    224\u001b[0m \u001b[0;34m\u001b[0m\u001b[0m\n\u001b[1;32m    225\u001b[0m \u001b[0;32mdef\u001b[0m \u001b[0minstall_opener\u001b[0m\u001b[0;34m(\u001b[0m\u001b[0mopener\u001b[0m\u001b[0;34m)\u001b[0m\u001b[0;34m:\u001b[0m\u001b[0;34m\u001b[0m\u001b[0m\n",
      "\u001b[0;32m/anaconda3/lib/python3.6/urllib/request.py\u001b[0m in \u001b[0;36mopen\u001b[0;34m(self, fullurl, data, timeout)\u001b[0m\n\u001b[1;32m    530\u001b[0m         \u001b[0;32mfor\u001b[0m \u001b[0mprocessor\u001b[0m \u001b[0;32min\u001b[0m \u001b[0mself\u001b[0m\u001b[0;34m.\u001b[0m\u001b[0mprocess_response\u001b[0m\u001b[0;34m.\u001b[0m\u001b[0mget\u001b[0m\u001b[0;34m(\u001b[0m\u001b[0mprotocol\u001b[0m\u001b[0;34m,\u001b[0m \u001b[0;34m[\u001b[0m\u001b[0;34m]\u001b[0m\u001b[0;34m)\u001b[0m\u001b[0;34m:\u001b[0m\u001b[0;34m\u001b[0m\u001b[0m\n\u001b[1;32m    531\u001b[0m             \u001b[0mmeth\u001b[0m \u001b[0;34m=\u001b[0m \u001b[0mgetattr\u001b[0m\u001b[0;34m(\u001b[0m\u001b[0mprocessor\u001b[0m\u001b[0;34m,\u001b[0m \u001b[0mmeth_name\u001b[0m\u001b[0;34m)\u001b[0m\u001b[0;34m\u001b[0m\u001b[0m\n\u001b[0;32m--> 532\u001b[0;31m             \u001b[0mresponse\u001b[0m \u001b[0;34m=\u001b[0m \u001b[0mmeth\u001b[0m\u001b[0;34m(\u001b[0m\u001b[0mreq\u001b[0m\u001b[0;34m,\u001b[0m \u001b[0mresponse\u001b[0m\u001b[0;34m)\u001b[0m\u001b[0;34m\u001b[0m\u001b[0m\n\u001b[0m\u001b[1;32m    533\u001b[0m \u001b[0;34m\u001b[0m\u001b[0m\n\u001b[1;32m    534\u001b[0m         \u001b[0;32mreturn\u001b[0m \u001b[0mresponse\u001b[0m\u001b[0;34m\u001b[0m\u001b[0m\n",
      "\u001b[0;32m/anaconda3/lib/python3.6/urllib/request.py\u001b[0m in \u001b[0;36mhttp_response\u001b[0;34m(self, request, response)\u001b[0m\n\u001b[1;32m    640\u001b[0m         \u001b[0;32mif\u001b[0m \u001b[0;32mnot\u001b[0m \u001b[0;34m(\u001b[0m\u001b[0;36m200\u001b[0m \u001b[0;34m<=\u001b[0m \u001b[0mcode\u001b[0m \u001b[0;34m<\u001b[0m \u001b[0;36m300\u001b[0m\u001b[0;34m)\u001b[0m\u001b[0;34m:\u001b[0m\u001b[0;34m\u001b[0m\u001b[0m\n\u001b[1;32m    641\u001b[0m             response = self.parent.error(\n\u001b[0;32m--> 642\u001b[0;31m                 'http', request, response, code, msg, hdrs)\n\u001b[0m\u001b[1;32m    643\u001b[0m \u001b[0;34m\u001b[0m\u001b[0m\n\u001b[1;32m    644\u001b[0m         \u001b[0;32mreturn\u001b[0m \u001b[0mresponse\u001b[0m\u001b[0;34m\u001b[0m\u001b[0m\n",
      "\u001b[0;32m/anaconda3/lib/python3.6/urllib/request.py\u001b[0m in \u001b[0;36merror\u001b[0;34m(self, proto, *args)\u001b[0m\n\u001b[1;32m    568\u001b[0m         \u001b[0;32mif\u001b[0m \u001b[0mhttp_err\u001b[0m\u001b[0;34m:\u001b[0m\u001b[0;34m\u001b[0m\u001b[0m\n\u001b[1;32m    569\u001b[0m             \u001b[0margs\u001b[0m \u001b[0;34m=\u001b[0m \u001b[0;34m(\u001b[0m\u001b[0mdict\u001b[0m\u001b[0;34m,\u001b[0m \u001b[0;34m'default'\u001b[0m\u001b[0;34m,\u001b[0m \u001b[0;34m'http_error_default'\u001b[0m\u001b[0;34m)\u001b[0m \u001b[0;34m+\u001b[0m \u001b[0morig_args\u001b[0m\u001b[0;34m\u001b[0m\u001b[0m\n\u001b[0;32m--> 570\u001b[0;31m             \u001b[0;32mreturn\u001b[0m \u001b[0mself\u001b[0m\u001b[0;34m.\u001b[0m\u001b[0m_call_chain\u001b[0m\u001b[0;34m(\u001b[0m\u001b[0;34m*\u001b[0m\u001b[0margs\u001b[0m\u001b[0;34m)\u001b[0m\u001b[0;34m\u001b[0m\u001b[0m\n\u001b[0m\u001b[1;32m    571\u001b[0m \u001b[0;34m\u001b[0m\u001b[0m\n\u001b[1;32m    572\u001b[0m \u001b[0;31m# XXX probably also want an abstract factory that knows when it makes\u001b[0m\u001b[0;34m\u001b[0m\u001b[0;34m\u001b[0m\u001b[0m\n",
      "\u001b[0;32m/anaconda3/lib/python3.6/urllib/request.py\u001b[0m in \u001b[0;36m_call_chain\u001b[0;34m(self, chain, kind, meth_name, *args)\u001b[0m\n\u001b[1;32m    502\u001b[0m         \u001b[0;32mfor\u001b[0m \u001b[0mhandler\u001b[0m \u001b[0;32min\u001b[0m \u001b[0mhandlers\u001b[0m\u001b[0;34m:\u001b[0m\u001b[0;34m\u001b[0m\u001b[0m\n\u001b[1;32m    503\u001b[0m             \u001b[0mfunc\u001b[0m \u001b[0;34m=\u001b[0m \u001b[0mgetattr\u001b[0m\u001b[0;34m(\u001b[0m\u001b[0mhandler\u001b[0m\u001b[0;34m,\u001b[0m \u001b[0mmeth_name\u001b[0m\u001b[0;34m)\u001b[0m\u001b[0;34m\u001b[0m\u001b[0m\n\u001b[0;32m--> 504\u001b[0;31m             \u001b[0mresult\u001b[0m \u001b[0;34m=\u001b[0m \u001b[0mfunc\u001b[0m\u001b[0;34m(\u001b[0m\u001b[0;34m*\u001b[0m\u001b[0margs\u001b[0m\u001b[0;34m)\u001b[0m\u001b[0;34m\u001b[0m\u001b[0m\n\u001b[0m\u001b[1;32m    505\u001b[0m             \u001b[0;32mif\u001b[0m \u001b[0mresult\u001b[0m \u001b[0;32mis\u001b[0m \u001b[0;32mnot\u001b[0m \u001b[0;32mNone\u001b[0m\u001b[0;34m:\u001b[0m\u001b[0;34m\u001b[0m\u001b[0m\n\u001b[1;32m    506\u001b[0m                 \u001b[0;32mreturn\u001b[0m \u001b[0mresult\u001b[0m\u001b[0;34m\u001b[0m\u001b[0m\n",
      "\u001b[0;32m/anaconda3/lib/python3.6/urllib/request.py\u001b[0m in \u001b[0;36mhttp_error_default\u001b[0;34m(self, req, fp, code, msg, hdrs)\u001b[0m\n\u001b[1;32m    648\u001b[0m \u001b[0;32mclass\u001b[0m \u001b[0mHTTPDefaultErrorHandler\u001b[0m\u001b[0;34m(\u001b[0m\u001b[0mBaseHandler\u001b[0m\u001b[0;34m)\u001b[0m\u001b[0;34m:\u001b[0m\u001b[0;34m\u001b[0m\u001b[0m\n\u001b[1;32m    649\u001b[0m     \u001b[0;32mdef\u001b[0m \u001b[0mhttp_error_default\u001b[0m\u001b[0;34m(\u001b[0m\u001b[0mself\u001b[0m\u001b[0;34m,\u001b[0m \u001b[0mreq\u001b[0m\u001b[0;34m,\u001b[0m \u001b[0mfp\u001b[0m\u001b[0;34m,\u001b[0m \u001b[0mcode\u001b[0m\u001b[0;34m,\u001b[0m \u001b[0mmsg\u001b[0m\u001b[0;34m,\u001b[0m \u001b[0mhdrs\u001b[0m\u001b[0;34m)\u001b[0m\u001b[0;34m:\u001b[0m\u001b[0;34m\u001b[0m\u001b[0m\n\u001b[0;32m--> 650\u001b[0;31m         \u001b[0;32mraise\u001b[0m \u001b[0mHTTPError\u001b[0m\u001b[0;34m(\u001b[0m\u001b[0mreq\u001b[0m\u001b[0;34m.\u001b[0m\u001b[0mfull_url\u001b[0m\u001b[0;34m,\u001b[0m \u001b[0mcode\u001b[0m\u001b[0;34m,\u001b[0m \u001b[0mmsg\u001b[0m\u001b[0;34m,\u001b[0m \u001b[0mhdrs\u001b[0m\u001b[0;34m,\u001b[0m \u001b[0mfp\u001b[0m\u001b[0;34m)\u001b[0m\u001b[0;34m\u001b[0m\u001b[0m\n\u001b[0m\u001b[1;32m    651\u001b[0m \u001b[0;34m\u001b[0m\u001b[0m\n\u001b[1;32m    652\u001b[0m \u001b[0;32mclass\u001b[0m \u001b[0mHTTPRedirectHandler\u001b[0m\u001b[0;34m(\u001b[0m\u001b[0mBaseHandler\u001b[0m\u001b[0;34m)\u001b[0m\u001b[0;34m:\u001b[0m\u001b[0;34m\u001b[0m\u001b[0m\n",
      "\u001b[0;31mHTTPError\u001b[0m: HTTP Error 500: Internal Server Error"
     ]
    }
   ],
   "source": [
    "pd.set_option('display.max_colwidth', 150)\n",
    "import json\n",
    "import pandas as pd\n",
    "\n",
    "for phone_brand in page_id_list:\n",
    "    print(\"Doing \" + phone_brand)\n",
    "    posts = []\n",
    "    json_data = get_fb_page_json_data(str(phone_brand), access_token, \n",
    "                              no_of_status_posts=100,\n",
    "                              start_date='2016-01-01', end_date='2016-03-31')\n",
    "    print(\"Got here\")\n",
    "    dict_data = json.loads(json_data)\n",
    "    for post in dict_data['data']:\n",
    "        dd = {}\n",
    "        try:\n",
    "            dd['message'] = post['message']\n",
    "            dd['id'] = post['id']\n",
    "            dd['type'] = post['type'] \n",
    "            dd['link'] =  post['link'] \n",
    "            dd['likes'] = post['likes']['summary']['total_count'] \n",
    "            dd['comments'] = post['comments']['summary']['total_count'] \n",
    "            dd['created_time'] =  post['created_time'] \n",
    "            dd['shares'] = post['shares']['count']\n",
    "            posts.append(dd)\n",
    "        except:\n",
    "            continue\n",
    "    # End of for loop.\n",
    "    posts_df = pd.DataFrame(posts)\n",
    "    posts_df.to_csv(phone_brand + '_2016Q1' + '.csv')\n",
    "\n",
    "    \n"
   ]
  },
  {
   "cell_type": "code",
   "execution_count": null,
   "metadata": {},
   "outputs": [],
   "source": []
  }
 ],
 "metadata": {
  "kernelspec": {
   "display_name": "Python 3",
   "language": "python",
   "name": "python3"
  },
  "language_info": {
   "codemirror_mode": {
    "name": "ipython",
    "version": 3
   },
   "file_extension": ".py",
   "mimetype": "text/x-python",
   "name": "python",
   "nbconvert_exporter": "python",
   "pygments_lexer": "ipython3",
   "version": "3.6.4"
  }
 },
 "nbformat": 4,
 "nbformat_minor": 2
}
