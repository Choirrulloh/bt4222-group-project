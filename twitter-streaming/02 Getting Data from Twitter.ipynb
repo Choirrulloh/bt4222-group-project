{
 "cells": [
  {
   "cell_type": "markdown",
   "metadata": {},
   "source": [
    "# Reading Tweets"
   ]
  },
  {
   "cell_type": "code",
   "execution_count": 23,
   "metadata": {},
   "outputs": [
    {
     "data": {
      "text/plain": [
       "63"
      ]
     },
     "execution_count": 23,
     "metadata": {},
     "output_type": "execute_result"
    }
   ],
   "source": [
    "import glob, json, os\n",
    "list_of_files = (glob.glob(\"./twitter_stream_data/*.txt\"))\n",
    "len(list_of_files)"
   ]
  },
  {
   "cell_type": "code",
   "execution_count": 36,
   "metadata": {},
   "outputs": [],
   "source": [
    "def read_files(list_of_files):\n",
    "    '''\n",
    "    Read all the TXT files into a \"list of dictionary objects\" called \"tweets_data\"\n",
    "    '''\n",
    "    tweets_data = []\n",
    "    timestamp  = []\n",
    "    \n",
    "    for fname in list_of_files:\n",
    "        tweets_file = open(fname, \"r\")\n",
    "        for line in tweets_file:\n",
    "            try:\n",
    "                tweet = json.loads(line)\n",
    "                tweets_data.append(tweet)\n",
    "                \n",
    "                ts = os.path.splitext(os.path.basename(fname))[0]\n",
    "                timestamp.append(ts)\n",
    "\n",
    "            except:\n",
    "                continue\n",
    "                \n",
    "    return (tweets_data, timestamp)"
   ]
  },
  {
   "cell_type": "markdown",
   "metadata": {},
   "source": [
    "We can print the number of tweets using the command below."
   ]
  },
  {
   "cell_type": "code",
   "execution_count": 38,
   "metadata": {},
   "outputs": [
    {
     "data": {
      "text/plain": [
       "303"
      ]
     },
     "execution_count": 38,
     "metadata": {},
     "output_type": "execute_result"
    }
   ],
   "source": [
    "tweets_data, timestamp = read_files(list_of_files)\n",
    "len(timestamp)"
   ]
  },
  {
   "cell_type": "code",
   "execution_count": 13,
   "metadata": {},
   "outputs": [
    {
     "data": {
      "text/plain": [
       "'RT @AndroidAuth: #Nokia8 Sirocco hands-on: High-end #AndroidOne.\\n\\nWatch full video: https://t.co/uIvfszlhE5\\n\\nRead more: https://t.co/9notPu…'"
      ]
     },
     "execution_count": 13,
     "metadata": {},
     "output_type": "execute_result"
    }
   ],
   "source": [
    "tweets_data[0]['text']"
   ]
  },
  {
   "cell_type": "markdown",
   "metadata": {},
   "source": [
    "Next, we will structure the tweets data into a pandas DataFrame to simplify the data manipulation. We will start by creating an empty DataFrame called tweets using the following command."
   ]
  },
  {
   "cell_type": "code",
   "execution_count": 39,
   "metadata": {},
   "outputs": [],
   "source": [
    "import pandas as pd\n",
    "tweets = pd.DataFrame()"
   ]
  },
  {
   "cell_type": "markdown",
   "metadata": {},
   "source": [
    "Next, we will add 3 columns to the tweets DataFrame called text, lang, and country. text column contains the tweet, lang column contains the language in which the tweet was written, and country the country from which the tweet was sent."
   ]
  },
  {
   "cell_type": "code",
   "execution_count": 40,
   "metadata": {},
   "outputs": [],
   "source": [
    "tweets['text'] = list(map(lambda tweet: tweet['text'] if 'text' in tweet else None, tweets_data))\n",
    "tweets['lang'] = list(map(lambda tweet: tweet['lang'] if 'lang' in tweet else None, tweets_data))\n",
    "tweets['country'] = list(map(lambda tweet: tweet['place']['country'] if ('place' in tweet and (tweet['place'] != None)) else None, tweets_data))\n",
    "tweets['timestamp'] = pd.to_datetime(timestamp, format=\"%Y-%m-%d_%H_%M\")"
   ]
  },
  {
   "cell_type": "markdown",
   "metadata": {},
   "source": [
    "Preview the **tweets** DataFrame"
   ]
  },
  {
   "cell_type": "code",
   "execution_count": 85,
   "metadata": {},
   "outputs": [
    {
     "data": {
      "text/html": [
       "<div>\n",
       "<style scoped>\n",
       "    .dataframe tbody tr th:only-of-type {\n",
       "        vertical-align: middle;\n",
       "    }\n",
       "\n",
       "    .dataframe tbody tr th {\n",
       "        vertical-align: top;\n",
       "    }\n",
       "\n",
       "    .dataframe thead th {\n",
       "        text-align: right;\n",
       "    }\n",
       "</style>\n",
       "<table border=\"1\" class=\"dataframe\">\n",
       "  <thead>\n",
       "    <tr style=\"text-align: right;\">\n",
       "      <th></th>\n",
       "      <th>text</th>\n",
       "      <th>lang</th>\n",
       "      <th>country</th>\n",
       "      <th>timestamp</th>\n",
       "      <th>sentiment</th>\n",
       "    </tr>\n",
       "  </thead>\n",
       "  <tbody>\n",
       "    <tr>\n",
       "      <th>293</th>\n",
       "      <td>Snow and dog!! #dog #baby #play #xperia #winte...</td>\n",
       "      <td>en</td>\n",
       "      <td>None</td>\n",
       "      <td>2018-03-01 20:16:00</td>\n",
       "      <td>0.175000</td>\n",
       "    </tr>\n",
       "    <tr>\n",
       "      <th>294</th>\n",
       "      <td>Samsung Galaxy S9 vs Apple iPhone X: the weigh...</td>\n",
       "      <td>en</td>\n",
       "      <td>None</td>\n",
       "      <td>2018-03-01 20:16:00</td>\n",
       "      <td>0.000000</td>\n",
       "    </tr>\n",
       "    <tr>\n",
       "      <th>295</th>\n",
       "      <td>RT @SuperSaf: Just enjoying the views of beaut...</td>\n",
       "      <td>en</td>\n",
       "      <td>None</td>\n",
       "      <td>2018-03-01 20:16:00</td>\n",
       "      <td>0.533333</td>\n",
       "    </tr>\n",
       "    <tr>\n",
       "      <th>296</th>\n",
       "      <td>What feature do you like best on the Galaxy S9...</td>\n",
       "      <td>en</td>\n",
       "      <td>None</td>\n",
       "      <td>2018-03-01 20:16:00</td>\n",
       "      <td>0.319444</td>\n",
       "    </tr>\n",
       "    <tr>\n",
       "      <th>297</th>\n",
       "      <td>RT @TopAchat: Ils sont pour qui ces #GalaxyS9 ...</td>\n",
       "      <td>fr</td>\n",
       "      <td>None</td>\n",
       "      <td>2018-03-01 20:16:00</td>\n",
       "      <td>NaN</td>\n",
       "    </tr>\n",
       "    <tr>\n",
       "      <th>298</th>\n",
       "      <td>RT @SamsungEspana: Lo estabais deseando. #Gala...</td>\n",
       "      <td>es</td>\n",
       "      <td>None</td>\n",
       "      <td>2018-03-01 20:16:00</td>\n",
       "      <td>NaN</td>\n",
       "    </tr>\n",
       "    <tr>\n",
       "      <th>299</th>\n",
       "      <td>RT @SamsungEspana: Sé el protagonista de tu me...</td>\n",
       "      <td>es</td>\n",
       "      <td>None</td>\n",
       "      <td>2018-03-01 20:16:00</td>\n",
       "      <td>NaN</td>\n",
       "    </tr>\n",
       "    <tr>\n",
       "      <th>300</th>\n",
       "      <td>RT @GExperienceFR: Focus sur l’appareil #photo...</td>\n",
       "      <td>fr</td>\n",
       "      <td>None</td>\n",
       "      <td>2018-03-01 20:16:00</td>\n",
       "      <td>NaN</td>\n",
       "    </tr>\n",
       "    <tr>\n",
       "      <th>301</th>\n",
       "      <td>RT @GExperienceFR: Focus sur l’appareil #photo...</td>\n",
       "      <td>fr</td>\n",
       "      <td>None</td>\n",
       "      <td>2018-03-01 20:16:00</td>\n",
       "      <td>NaN</td>\n",
       "    </tr>\n",
       "    <tr>\n",
       "      <th>302</th>\n",
       "      <td>RT @GExperienceFR: Focus sur les fonctionnalit...</td>\n",
       "      <td>fr</td>\n",
       "      <td>None</td>\n",
       "      <td>2018-03-01 20:17:00</td>\n",
       "      <td>NaN</td>\n",
       "    </tr>\n",
       "  </tbody>\n",
       "</table>\n",
       "</div>"
      ],
      "text/plain": [
       "                                                  text lang country  \\\n",
       "293  Snow and dog!! #dog #baby #play #xperia #winte...   en    None   \n",
       "294  Samsung Galaxy S9 vs Apple iPhone X: the weigh...   en    None   \n",
       "295  RT @SuperSaf: Just enjoying the views of beaut...   en    None   \n",
       "296  What feature do you like best on the Galaxy S9...   en    None   \n",
       "297  RT @TopAchat: Ils sont pour qui ces #GalaxyS9 ...   fr    None   \n",
       "298  RT @SamsungEspana: Lo estabais deseando. #Gala...   es    None   \n",
       "299  RT @SamsungEspana: Sé el protagonista de tu me...   es    None   \n",
       "300  RT @GExperienceFR: Focus sur l’appareil #photo...   fr    None   \n",
       "301  RT @GExperienceFR: Focus sur l’appareil #photo...   fr    None   \n",
       "302  RT @GExperienceFR: Focus sur les fonctionnalit...   fr    None   \n",
       "\n",
       "              timestamp  sentiment  \n",
       "293 2018-03-01 20:16:00   0.175000  \n",
       "294 2018-03-01 20:16:00   0.000000  \n",
       "295 2018-03-01 20:16:00   0.533333  \n",
       "296 2018-03-01 20:16:00   0.319444  \n",
       "297 2018-03-01 20:16:00        NaN  \n",
       "298 2018-03-01 20:16:00        NaN  \n",
       "299 2018-03-01 20:16:00        NaN  \n",
       "300 2018-03-01 20:16:00        NaN  \n",
       "301 2018-03-01 20:16:00        NaN  \n",
       "302 2018-03-01 20:17:00        NaN  "
      ]
     },
     "execution_count": 85,
     "metadata": {},
     "output_type": "execute_result"
    }
   ],
   "source": [
    "tweets.tail(10)"
   ]
  },
  {
   "cell_type": "code",
   "execution_count": 86,
   "metadata": {},
   "outputs": [
    {
     "data": {
      "text/html": [
       "<div>\n",
       "<style scoped>\n",
       "    .dataframe tbody tr th:only-of-type {\n",
       "        vertical-align: middle;\n",
       "    }\n",
       "\n",
       "    .dataframe tbody tr th {\n",
       "        vertical-align: top;\n",
       "    }\n",
       "\n",
       "    .dataframe thead th {\n",
       "        text-align: right;\n",
       "    }\n",
       "</style>\n",
       "<table border=\"1\" class=\"dataframe\">\n",
       "  <thead>\n",
       "    <tr style=\"text-align: right;\">\n",
       "      <th></th>\n",
       "      <th>text</th>\n",
       "      <th>lang</th>\n",
       "      <th>country</th>\n",
       "      <th>timestamp</th>\n",
       "      <th>sentiment</th>\n",
       "    </tr>\n",
       "  </thead>\n",
       "  <tbody>\n",
       "  </tbody>\n",
       "</table>\n",
       "</div>"
      ],
      "text/plain": [
       "Empty DataFrame\n",
       "Columns: [text, lang, country, timestamp, sentiment]\n",
       "Index: []"
      ]
     },
     "execution_count": 86,
     "metadata": {},
     "output_type": "execute_result"
    }
   ],
   "source": [
    "tweets[  tweets['country'].notnull()  ].head()"
   ]
  },
  {
   "cell_type": "markdown",
   "metadata": {},
   "source": [
    "# Sentiment analysis with textblob"
   ]
  },
  {
   "cell_type": "code",
   "execution_count": 61,
   "metadata": {},
   "outputs": [],
   "source": [
    "from textblob import TextBlob\n",
    "# define a function that accepts text and returns the polarity\n",
    "def detect_sentiment(row):\n",
    "    \n",
    "    text = row.text\n",
    "    lang = row.lang\n",
    "    \n",
    "    # use this line for Python 2 (avoids UnicodeDecodeError for some reviews)\n",
    "    # blob = TextBlob(text.decode(encoding='utf-8'))\n",
    "    \n",
    "    # use this line instead for Python 3\n",
    "    blob = TextBlob(text)\n",
    "    \n",
    "    # return the polarity\n",
    "    return blob.sentiment.polarity if lang==\"en\" else None"
   ]
  },
  {
   "cell_type": "code",
   "execution_count": 65,
   "metadata": {},
   "outputs": [
    {
     "data": {
      "text/html": [
       "<div>\n",
       "<style scoped>\n",
       "    .dataframe tbody tr th:only-of-type {\n",
       "        vertical-align: middle;\n",
       "    }\n",
       "\n",
       "    .dataframe tbody tr th {\n",
       "        vertical-align: top;\n",
       "    }\n",
       "\n",
       "    .dataframe thead th {\n",
       "        text-align: right;\n",
       "    }\n",
       "</style>\n",
       "<table border=\"1\" class=\"dataframe\">\n",
       "  <thead>\n",
       "    <tr style=\"text-align: right;\">\n",
       "      <th></th>\n",
       "      <th>text</th>\n",
       "      <th>lang</th>\n",
       "      <th>country</th>\n",
       "      <th>timestamp</th>\n",
       "      <th>sentiment</th>\n",
       "    </tr>\n",
       "  </thead>\n",
       "  <tbody>\n",
       "    <tr>\n",
       "      <th>0</th>\n",
       "      <td>RT @AndroidAuth: #Nokia8 Sirocco hands-on: Hig...</td>\n",
       "      <td>en</td>\n",
       "      <td>None</td>\n",
       "      <td>2018-03-01 13:36:00</td>\n",
       "      <td>0.425000</td>\n",
       "    </tr>\n",
       "    <tr>\n",
       "      <th>1</th>\n",
       "      <td>RT @VodafoneUK: RT for your chance to #WIN the...</td>\n",
       "      <td>en</td>\n",
       "      <td>None</td>\n",
       "      <td>2018-03-01 13:36:00</td>\n",
       "      <td>0.468182</td>\n",
       "    </tr>\n",
       "    <tr>\n",
       "      <th>2</th>\n",
       "      <td>RT @ChandaPardhi: #हमको_भी_मरना_है तो क्यो न स...</td>\n",
       "      <td>hi</td>\n",
       "      <td>None</td>\n",
       "      <td>2018-03-01 13:37:00</td>\n",
       "      <td>NaN</td>\n",
       "    </tr>\n",
       "    <tr>\n",
       "      <th>3</th>\n",
       "      <td>Win A #Samsung #GalaxyS9 With #Android Headlin...</td>\n",
       "      <td>en</td>\n",
       "      <td>None</td>\n",
       "      <td>2018-03-01 13:37:00</td>\n",
       "      <td>0.800000</td>\n",
       "    </tr>\n",
       "    <tr>\n",
       "      <th>4</th>\n",
       "      <td>RT @W6Df3B4zcr2s6ri: #GalaxyS9\\n#हमको_भी_मरना_...</td>\n",
       "      <td>hi</td>\n",
       "      <td>None</td>\n",
       "      <td>2018-03-01 13:37:00</td>\n",
       "      <td>NaN</td>\n",
       "    </tr>\n",
       "  </tbody>\n",
       "</table>\n",
       "</div>"
      ],
      "text/plain": [
       "                                                text lang country  \\\n",
       "0  RT @AndroidAuth: #Nokia8 Sirocco hands-on: Hig...   en    None   \n",
       "1  RT @VodafoneUK: RT for your chance to #WIN the...   en    None   \n",
       "2  RT @ChandaPardhi: #हमको_भी_मरना_है तो क्यो न स...   hi    None   \n",
       "3  Win A #Samsung #GalaxyS9 With #Android Headlin...   en    None   \n",
       "4  RT @W6Df3B4zcr2s6ri: #GalaxyS9\\n#हमको_भी_मरना_...   hi    None   \n",
       "\n",
       "            timestamp  sentiment  \n",
       "0 2018-03-01 13:36:00   0.425000  \n",
       "1 2018-03-01 13:36:00   0.468182  \n",
       "2 2018-03-01 13:37:00        NaN  \n",
       "3 2018-03-01 13:37:00   0.800000  \n",
       "4 2018-03-01 13:37:00        NaN  "
      ]
     },
     "execution_count": 65,
     "metadata": {},
     "output_type": "execute_result"
    }
   ],
   "source": [
    "# create a new DataFrame column for sentiment (WARNING: SLOW!)\n",
    "# feature engineering\n",
    "tweets['sentiment'] = tweets.apply(detect_sentiment,axis=1)\n",
    "tweets.head()"
   ]
  },
  {
   "cell_type": "code",
   "execution_count": 87,
   "metadata": {},
   "outputs": [],
   "source": [
    "import matplotlib.pyplot as plt\n",
    "%matplotlib inline"
   ]
  },
  {
   "cell_type": "code",
   "execution_count": 88,
   "metadata": {},
   "outputs": [
    {
     "data": {
      "text/plain": [
       "[<matplotlib.lines.Line2D at 0x11a845048>]"
      ]
     },
     "execution_count": 88,
     "metadata": {},
     "output_type": "execute_result"
    },
    {
     "data": {
      "image/png": "[encoded data removed]",
      "text/plain": [
       "<matplotlib.figure.Figure at 0x11a805198>"
      ]
     },
     "metadata": {},
     "output_type": "display_data"
    }
   ],
   "source": [
    "plt.plot(tweets.timestamp, tweets.sentiment, '.')"
   ]
  },
  {
   "cell_type": "code",
   "execution_count": null,
   "metadata": {},
   "outputs": [],
   "source": []
  }
 ],
 "metadata": {
  "kernelspec": {
   "display_name": "Python 3",
   "language": "python",
   "name": "python3"
  },
  "language_info": {
   "codemirror_mode": {
    "name": "ipython",
    "version": 3
   },
   "file_extension": ".py",
   "mimetype": "text/x-python",
   "name": "python",
   "nbconvert_exporter": "python",
   "pygments_lexer": "ipython3",
   "version": "3.6.0"
  }
 },
 "nbformat": 4,
 "nbformat_minor": 2
}
